{
 "cells": [
  {
   "cell_type": "code",
   "execution_count": 64,
   "metadata": {},
   "outputs": [
    {
     "name": "stdout",
     "output_type": "stream",
     "text": [
      "\u001b[1mMeters to Centimeters Calculator\u001b[0;0m\n",
      "178.0\n"
     ]
    }
   ],
   "source": [
    "def centimeters(m):\n",
    "    cm = (m * 100)\n",
    "    return cm \n",
    "bold = \"\\033[1m\"\n",
    "reset = \"\\033[0;0m\"\n",
    "\n",
    "print(bold + \"Meters to Centimeters Calculator\" + reset)\n",
    "\n",
    "m = 1.78\n",
    "\n",
    "print(centimeters(m))\n",
    "    "
   ]
  },
  {
   "cell_type": "code",
   "execution_count": 174,
   "metadata": {},
   "outputs": [
    {
     "name": "stdout",
     "output_type": "stream",
     "text": [
      "\u001b[1mKilograms to Pounds Calculator\u001b[0;0m\n",
      "Roong is 129.654 pounds.\n"
     ]
    }
   ],
   "source": [
    "def pounds(kg):\n",
    "    lb = (kg * 2.205)\n",
    "    return lb\n",
    "bold = \"\\033[1m\"\n",
    "reset = \"\\033[0;0m\"\n",
    "\n",
    "print(bold + \"Kilograms to Pounds Calculator\" + reset)\n",
    "\n",
    "name = \"Roong\"\n",
    "kg = 58.8\n",
    "\n",
    "print(str(name) + \" is \" + str(pounds(kg)) + \" pounds.\")"
   ]
  },
  {
   "cell_type": "code",
   "execution_count": 1,
   "metadata": {},
   "outputs": [
    {
     "name": "stdout",
     "output_type": "stream",
     "text": [
      "\u001b[1mPounds to Kilograms Calculator\u001b[0;0m\n",
      "Torsten is 81.63265306122449 kilos.\n"
     ]
    }
   ],
   "source": [
    "def kilos(lb):\n",
    "    kg = (lb / 2.205)\n",
    "    return kg\n",
    "bold = \"\\033[1m\"\n",
    "reset = \"\\033[0;0m\"\n",
    "\n",
    "print(bold + \"Pounds to Kilograms Calculator\" + reset)\n",
    "\n",
    "name = \"Torsten\"\n",
    "lb = 163\n",
    "\n",
    "print(str(name) + \" is \" + str(kilos(lb)) + \" kilos.\")"
   ]
  },
  {
   "cell_type": "code",
   "execution_count": 7,
   "metadata": {
    "scrolled": true
   },
   "outputs": [
    {
     "name": "stdout",
     "output_type": "stream",
     "text": [
      "\u001b[1mBMI Calculator\u001b[0;0m\n",
      "bmi: 31.13092516384697\n",
      "BRIAN is overweight.\n"
     ]
    }
   ],
   "source": [
    "name = \"BRIAN\" \n",
    "height_m = 1.62\n",
    "weight_kg = 81.7\n",
    "\n",
    "bold = \"\\033[1m\"\n",
    "reset = \"\\033[0;0m\"\n",
    "print(bold + \"BMI Calculator\" + reset)\n",
    "bmi = weight_kg / (height_m ** 2)\n",
    "print(\"bmi: \" + str(bmi))\n",
    "if bmi < 25:\n",
    "    print(name + \" is not overweight\")\n",
    "else:\n",
    "    print(name + \" is overweight.\")"
   ]
  },
  {
   "cell_type": "markdown",
   "metadata": {},
   "source": []
  },
  {
   "cell_type": "code",
   "execution_count": 6,
   "metadata": {},
   "outputs": [
    {
     "name": "stdout",
     "output_type": "stream",
     "text": [
      "\u001b[1mActivity Level\u001b[0;0m\n",
      "Sedentary = 1.2\n",
      "Lightly Active = 1.375\n",
      "Moderately Active = 1.55\n",
      "Very Active = 1.725\n",
      "Extremely Active = 1.9\n",
      "\n",
      "\u001b[1mTDEE Calculator\u001b[0;0m\n",
      "TDEE = 2808.1195000000002 calories.\n"
     ]
    }
   ],
   "source": [
    "gender = \"male\"\n",
    "age = 27\n",
    "activity_level = 1.55\n",
    "weight = 81.7\n",
    "height = 162\n",
    "\n",
    "female = \"female\"\n",
    "male = \"male\"\n",
    "\n",
    "bold = \"\\033[1m\"\n",
    "reset = \"\\033[0;0m\"\n",
    "\n",
    "\n",
    "\n",
    "activity_level_title = \"Activity Level\"\n",
    "activity_level_list = '''\n",
    "Sedentary = 1.2\n",
    "Lightly Active = 1.375\n",
    "Moderately Active = 1.55\n",
    "Very Active = 1.725\n",
    "Extremely Active = 1.9\n",
    "'''\n",
    "print(bold + activity_level_title + reset + activity_level_list)\n",
    "print(bold + \"TDEE Calculator\" + reset)\n",
    "\n",
    "if gender is \"female\":\n",
    "    def w_bmr(weight, height, age, activity_level):\n",
    "        total_bmr_w = (655 + (9.6 * weight) + (1.8 * height) - (4.7 * age)) * activity_level\n",
    "        return total_bmr_w\n",
    "    TDEE = w_bmr(weight, height, age, activity_level)\n",
    "    print(\"TDEE = \" + str(TDEE) + \" calories.\")\n",
    "else:\n",
    "    def m_bmr(weight, height, age, activity_level):\n",
    "        total_bmr_m = (66 + (13.7 * weight) + (5 * height) - (6.8 * age)) * activity_level\n",
    "        return total_bmr_m\n",
    "    TDEE = m_bmr(weight, height, age, activity_level)\n",
    "    print(\"TDEE = \" + str(TDEE) + \" calories.\")\n"
   ]
  },
  {
   "cell_type": "code",
   "execution_count": null,
   "metadata": {},
   "outputs": [],
   "source": []
  }
 ],
 "metadata": {
  "kernelspec": {
   "display_name": "Python 3",
   "language": "python",
   "name": "python3"
  },
  "language_info": {
   "codemirror_mode": {
    "name": "ipython",
    "version": 3
   },
   "file_extension": ".py",
   "mimetype": "text/x-python",
   "name": "python",
   "nbconvert_exporter": "python",
   "pygments_lexer": "ipython3",
   "version": "3.7.1"
  }
 },
 "nbformat": 4,
 "nbformat_minor": 2
}
